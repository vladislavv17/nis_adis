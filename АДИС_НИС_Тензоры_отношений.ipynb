{
  "nbformat": 4,
  "nbformat_minor": 0,
  "metadata": {
    "colab": {
      "provenance": []
    },
    "kernelspec": {
      "name": "python3",
      "display_name": "Python 3"
    },
    "language_info": {
      "name": "python"
    }
  },
  "cells": [
    {
      "cell_type": "code",
      "execution_count": 1,
      "metadata": {
        "id": "PtQkeFp2cms5"
      },
      "outputs": [],
      "source": [
        "import numpy as np\n",
        "import pandas as pd\n",
        "import matplotlib.pyplot as plt"
      ]
    },
    {
      "cell_type": "code",
      "source": [
        "def Quantify(N, x, t):\n",
        "  if x[t] == 1:\n",
        "    return N\n",
        "\n",
        "  if x[t] == -1:\n",
        "    return 1\n",
        "\n",
        "    \n",
        "  return int((x[t] + 1) * N  / 2) + 1\n"
      ],
      "metadata": {
        "id": "s-MeRfySiZg5"
      },
      "execution_count": 26,
      "outputs": []
    },
    {
      "cell_type": "code",
      "source": [
        "class Tensor:\n",
        "\n",
        "  def __init__(self, mode='const', fill_value=3):\n",
        "    self._data = np.array().fill(fill_value)\n",
        "    self._adding = 0.3\n",
        "    self._evaporating = 0.03\n",
        "  \n",
        "  def get_value(self, *args):\n",
        "    return self._data[args]\n",
        "\n",
        "  def add(self, other):\n",
        "    for element in self._data:\n",
        "      self[element] += other[element]\n",
        "\n",
        "  def module_plus(self):\n",
        "    for element in self._data:\n",
        "      self._data[element] = max(0, self._data[element])\n",
        "\n",
        "  def minus(self, other):\n",
        "    for element in self._data:\n",
        "      self._data[element] -= other[element]\n",
        "\n"
      ],
      "metadata": {
        "id": "4AtDXnuprs2G"
      },
      "execution_count": 37,
      "outputs": []
    },
    {
      "cell_type": "code",
      "source": [
        "params = {\n",
        "    \n",
        "  'N': 20,\n",
        "  'S': 3,\n",
        "  'Q_1': 10,\n",
        "  'K': 1,\n",
        "  'P_max': 2,\n",
        "  'Q_2': 20,\n",
        "  'p_0': 3,\n",
        "  'p_evaporating': 0.03,\n",
        "  'Q_3': 20,\n",
        "\n",
        "}"
      ],
      "metadata": {
        "id": "4q9QKz7vrdOe"
      },
      "execution_count": 35,
      "outputs": []
    },
    {
      "cell_type": "code",
      "source": [
        "def General_Tensor(x, parameters=params):\n",
        "    p = parameters['p']\n",
        "    S = parameters['S']\n",
        "    T = Tensor(mode='const', fill_value=parameters['p_0'])\n",
        "\n",
        "\n",
        "    for step_q in range(parameters['max_count']):\n",
        "        t_0 = np.random.randint(len(x))\n",
        "        t = t_0\n",
        "        p_arbit = []\n",
        "\n",
        "        for q in range(parameters['Q_1']):\n",
        "            I_cur = Quantify(params['N'], x, t)\n",
        "\n",
        "            # Итерируемся по каждому p:\n",
        "            probs = []\n",
        "            possible_templates = [[_ for _ in range(parameters['P_max'])] * (parameters['S'] - 1)]\n",
        "\n",
        "            new_p = 0\n",
        "            max_prob = 0\n",
        "            for p_cur in range(1, parameters['p_max']):\n",
        "              Prob = sum(possible_templates.where(I_cur == 'I' and p_cur = 'p')) / \\\n",
        "                    sum(possible_templates.where(I_cur == 'I'))\n",
        "\n",
        "              probs += [Prob]\n",
        "              if Prob > max_prob:\n",
        "                new_p = p_cur\n",
        "                max_prob = Prob\n",
        "\n",
        "            t += new_p\n",
        "            p_arbit += [p_arbit]\n",
        "\n",
        "\n",
        "\n",
        "\n",
        "        T.minus(Tensor(mode='const', fill_value=params['p_evaporating'])).mod_plus()\n",
        "    return T\n",
        "\n",
        "\n",
        "def Time_series_generate(x, T, ideal_path, parameters):\n",
        "    while True:\n",
        "\n",
        "        # Итерируемся по парам I_s, P_s\n",
        "\n",
        "\n",
        "        P_ = T(ideal_path) / sum([T(ideal_path[:-1] + [i]) for i in range(parameters['P_max'])])\n",
        "\n",
        "\n",
        "\n",
        "        if x.is_filled(pos):\n",
        "            pos = x.first_null()\n",
        "            continue\n",
        "        else:\n",
        "            if P_ >= parameters['Q_3']:\n",
        "                pos += P_\n",
        "            else:\n",
        "                pos = x.first_null_pos()\n",
        "\n",
        "\n",
        "                if pos is None:\n",
        "                    break\n",
        "                else:\n",
        "                    continue\n",
        " \n",
        "    return x\n"
      ],
      "metadata": {
        "id": "pcL6FFgucyMd"
      },
      "execution_count": null,
      "outputs": []
    }
  ]
}